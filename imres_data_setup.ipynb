{
  "nbformat": 4,
  "nbformat_minor": 0,
  "metadata": {
    "colab": {
      "name": "imres_data_setup.ipynb",
      "provenance": [],
      "toc_visible": true
    },
    "kernelspec": {
      "name": "python3",
      "display_name": "Python 3"
    }
  },
  "cells": [
    {
      "cell_type": "code",
      "metadata": {
        "colab": {
          "base_uri": "https://localhost:8080/"
        },
        "id": "9w3hMYQscjdc",
        "outputId": "fbf492c3-b2ff-4f47-8b0b-036151fbede6"
      },
      "source": [
        "from google.colab import drive\r\n",
        "\r\n",
        "drive.mount('/content/gdrive/')"
      ],
      "execution_count": 8,
      "outputs": [
        {
          "output_type": "stream",
          "text": [
            "Mounted at /content/gdrive/\n"
          ],
          "name": "stdout"
        }
      ]
    },
    {
      "cell_type": "code",
      "metadata": {
        "colab": {
          "base_uri": "https://localhost:8080/"
        },
        "id": "BhD5802XIuw5",
        "outputId": "2585ceef-6027-4ae5-a68b-871f3cdd0b01"
      },
      "source": [
        "%cd gdrive/MyDrive/petrobras2"
      ],
      "execution_count": 12,
      "outputs": [
        {
          "output_type": "stream",
          "text": [
            "/content/gdrive/MyDrive/petrobras2\n"
          ],
          "name": "stdout"
        }
      ]
    },
    {
      "cell_type": "code",
      "metadata": {
        "colab": {
          "base_uri": "https://localhost:8080/"
        },
        "id": "kpRca-F0j4eV",
        "outputId": "f1be36da-35f9-4747-ec35-f0a8faddaacb"
      },
      "source": [
        "!ls\r\n"
      ],
      "execution_count": 14,
      "outputs": [
        {
          "output_type": "stream",
          "text": [
            "data\t\t\timres_data_setup.py  imres_train.py\n",
            "imres_data_setup.ipynb\timres_data_split.py  mask_rcnn_coco.h5\n"
          ],
          "name": "stdout"
        }
      ]
    },
    {
      "cell_type": "markdown",
      "metadata": {
        "id": "e38lSrCNkqbi"
      },
      "source": [
        "# ===============================================================\r\n",
        "# **Projeto de Classificação da Qualidade de Perfis de Imagem LWD** \r\n",
        "\r\n",
        "# Script para montar os arquivos com as imagens e bounding boxes individuais\r\n",
        "\r\n",
        "# Data: Outubro de 2020\r\n",
        "# Autor: Ralph Piazza\r\n",
        "# ==============================================================="
      ]
    },
    {
      "cell_type": "code",
      "metadata": {
        "id": "TQ5Q5afriN0p"
      },
      "source": [
        "# import libraries\r\n",
        "\r\n",
        "import numpy as np\r\n",
        "import pandas as pd\r\n",
        "import math\r\n",
        "import imageio\r\n",
        "from os import listdir"
      ],
      "execution_count": 15,
      "outputs": []
    },
    {
      "cell_type": "code",
      "metadata": {
        "id": "-awTSfODcoNE"
      },
      "source": [
        "# global definitions\r\n",
        "\r\n",
        "HEIGHT = 512\r\n",
        "\r\n",
        "XMIN = 1\r\n",
        "XMAX = 120\r\n",
        "\r\n",
        "ANNOT_DIR = 'data/annots_original/'\r\n",
        "IMAGE_DIR = 'data/images_original/'\r\n",
        "\r\n",
        "IMAGE_CSV_DEST = 'data/images_csv/'\r\n",
        "IMAGE_JPG_DEST = 'data/images/'\r\n",
        "ANNOT_DEST = 'data/annots/'\r\n",
        "\r\n",
        "RES_TRACK_NAME = 'RESOLUCAO_CURVA_REVISAO'\r\n",
        "DEPTH_ANNOT = 'DEPTH'\r\n",
        "DEPTH_IMAGE = 'TDEP'"
      ],
      "execution_count": 16,
      "outputs": []
    },
    {
      "cell_type": "code",
      "metadata": {
        "id": "gVPV744VcsE4"
      },
      "source": [
        "# convert csv files into jpg files\r\n",
        "\r\n",
        "def convert_jpg(file_path, img_count):     \r\n",
        "    img_data = np.genfromtxt(file_path, delimiter=',')                              ### convert csv to jpg through normalization of data\r\n",
        "    img_data -= img_data.min()\r\n",
        "    img_data = img_data / img_data.max()\r\n",
        "    img_data *= 255\r\n",
        "    img_data = np.uint8(img_data)\r\n",
        "    \r\n",
        "    write_path = IMAGE_JPG_DEST + str(img_count).zfill(5) + '.jpg'\r\n",
        "    imageio.imwrite(write_path, img_data)\r\n",
        "    return"
      ],
      "execution_count": 17,
      "outputs": []
    },
    {
      "cell_type": "code",
      "metadata": {
        "id": "Xv-2Tv-dcwBv"
      },
      "source": [
        "# create csv files with individual images\r\n",
        "\r\n",
        "def create_imgfiles(df_image, prev_wells_images, df_annot, well_number):    \r\n",
        "    df_single_image = pd.DataFrame()\r\n",
        "    \r\n",
        "    total_images = math.floor(len(df_image) / HEIGHT)                               ### obs.: ignore reduced image remaining at the end of the well\r\n",
        "        \r\n",
        "    for img in range(1, total_images + 1): \r\n",
        "        df_single_image = df_single_image.iloc[0:0]\r\n",
        "        init_row = (img - 1) * HEIGHT\r\n",
        "        final_row = init_row + HEIGHT\r\n",
        "        \r\n",
        "        img_count = img + prev_wells_images                                         ### select rows corresponding to an individual image\r\n",
        "        df_single_image = df_image.iloc[init_row:final_row]\r\n",
        "        \r\n",
        "        create_bbfile(df_single_image, img_count, df_annot, well_number)            ### create individual annotation file corresponding to the image\r\n",
        "        \r\n",
        "        file_path = IMAGE_CSV_DEST + str(img_count).zfill(5) + '.csv'\r\n",
        "        df_single_image = df_single_image.drop(columns=[DEPTH_IMAGE])        \r\n",
        "        df_single_image.to_csv(file_path, header=False, index=False)                ### create individual csv image file\r\n",
        "        \r\n",
        "        convert_jpg(file_path, img_count)                                           ### create jpg image file from the csv file     \r\n",
        "            \r\n",
        "    prev_wells_images += total_images        \r\n",
        "    return prev_wells_images"
      ],
      "execution_count": 18,
      "outputs": []
    },
    {
      "cell_type": "code",
      "metadata": {
        "id": "6wAQs8VoczKE"
      },
      "source": [
        "# create csv files with bounding boxes for each image \r\n",
        "\r\n",
        "def create_bbfile(df_single_image, img_count, df_annot, well_number):\r\n",
        "    df_single_annot = pd.DataFrame(columns=['XMIN', 'YMIN', 'XMAX', 'YMAX', 'CLASS', 'HEIGHT', 'WELL', 'INIT_DEPTH', 'FINAL_DEPTH'])\r\n",
        "    \r\n",
        "    image_init_depth = df_single_image[DEPTH_IMAGE].iloc[0]\r\n",
        "    image_final_depth = df_single_image[DEPTH_IMAGE].iloc[-1]\r\n",
        "    \r\n",
        "    init_row = len(df_annot[df_annot[DEPTH_ANNOT] < image_init_depth])\r\n",
        "    final_row = len(df_annot[df_annot[DEPTH_ANNOT] <= image_final_depth])\r\n",
        "    \r\n",
        "    bbox = 0\r\n",
        "    start = init_row\r\n",
        "    cur_class = df_annot['CLASS'].iloc[init_row]\r\n",
        "    \r\n",
        "    for i in range(init_row + 1, final_row):\r\n",
        "        if(df_annot['CLASS'].iloc[i] != cur_class and i > start + 1):                                ### check for change in class and create bounding box\r\n",
        "            low_depth = df_annot[DEPTH_ANNOT].iloc[start]\r\n",
        "            high_depth = df_annot[DEPTH_ANNOT].iloc[i - 1]\r\n",
        "            \r\n",
        "            ymin = len(df_single_image[df_single_image[DEPTH_IMAGE] < low_depth])\r\n",
        "            ymax = len(df_single_image[df_single_image[DEPTH_IMAGE] < high_depth])\r\n",
        "            \r\n",
        "            df_single_annot.at[bbox, 'XMIN'] = int(XMIN)\r\n",
        "            df_single_annot.at[bbox, 'YMIN'] = int(ymin + 1)\r\n",
        "            df_single_annot.at[bbox, 'XMAX'] = int(XMAX)\r\n",
        "            df_single_annot.at[bbox, 'YMAX'] = int(ymax + 1)\r\n",
        "            df_single_annot.at[bbox, 'CLASS'] = int(cur_class)\r\n",
        "            df_single_annot.at[bbox, 'HEIGHT'] = HEIGHT\r\n",
        "            df_single_annot.at[bbox, 'WELL'] = well_number\r\n",
        "            df_single_annot.at[bbox, 'INIT_DEPTH'] = low_depth\r\n",
        "            df_single_annot.at[bbox, 'FINAL_DEPTH'] = high_depth\r\n",
        "            \r\n",
        "            bbox += 1\r\n",
        "            cur_class = df_annot['CLASS'].iloc[i]\r\n",
        "            start = i\r\n",
        "            \r\n",
        "        elif(df_annot['CLASS'].iloc[i] != cur_class and i == start + 1):                                ### check if bounding box might have a single line and skip it\r\n",
        "            cur_class = df_annot['CLASS'].iloc[i]\r\n",
        "            start = i\r\n",
        "            \r\n",
        "        elif(i == final_row - 1 and i > start + 1):                                                     ### create bounding box of the final parte of the image \r\n",
        "            low_depth = df_annot[DEPTH_ANNOT].iloc[start]\r\n",
        "            high_depth = df_annot[DEPTH_ANNOT].iloc[i]\r\n",
        "            \r\n",
        "            ymin = len(df_single_image[df_single_image[DEPTH_IMAGE] < low_depth])\r\n",
        "            ymax = len(df_single_image[df_single_image[DEPTH_IMAGE] < high_depth])\r\n",
        "        \r\n",
        "            df_single_annot.at[bbox, 'XMIN'] = int(XMIN)\r\n",
        "            df_single_annot.at[bbox, 'YMIN'] = int(ymin + 1)\r\n",
        "            df_single_annot.at[bbox, 'XMAX'] = int(XMAX)\r\n",
        "            df_single_annot.at[bbox, 'YMAX'] = int(ymax + 1)\r\n",
        "            df_single_annot.at[bbox, 'CLASS'] = int(cur_class)\r\n",
        "            df_single_annot.at[bbox, 'HEIGHT'] = HEIGHT\r\n",
        "            df_single_annot.at[bbox, 'WELL'] = well_number\r\n",
        "            df_single_annot.at[bbox, 'INIT_DEPTH'] = low_depth\r\n",
        "            df_single_annot.at[bbox, 'FINAL_DEPTH'] = high_depth\r\n",
        "    \r\n",
        "    file_path = ANNOT_DEST + str(img_count).zfill(5) + '.csv'\r\n",
        "    df_single_annot.to_csv(file_path, index=False)   \r\n",
        "    return"
      ],
      "execution_count": 19,
      "outputs": []
    },
    {
      "cell_type": "code",
      "metadata": {
        "id": "UZSgnMFqc283"
      },
      "source": [
        "# parse original image and annotation files\r\n",
        "\r\n",
        "prev_wells_images = 0\r\n",
        "\r\n",
        "for image_file in listdir(IMAGE_DIR):                                                           ### select image file\r\n",
        "    df_image = pd.read_csv(IMAGE_DIR + image_file, decimal=\",\", sep=';')\r\n",
        "    df_image = df_image.dropna()\r\n",
        "    \r\n",
        "    well_number = int(image_file[5:7])\r\n",
        "       \r\n",
        "    for annot_file in listdir(ANNOT_DIR):                                                       ### select the corresponding annotation file \r\n",
        "        if int(annot_file[5:7]) == well_number:\r\n",
        "            df_annot = pd.read_csv(ANNOT_DIR + annot_file, skiprows=[1], decimal=\",\", sep=';')          \r\n",
        "            df_annot = df_annot.dropna(subset=[DEPTH_ANNOT, RES_TRACK_NAME])\r\n",
        "            df_annot = df_annot.drop(df_annot[df_annot.RESOLUCAO_CURVA_REVISAO == -9999].index)\r\n",
        "            break\r\n",
        "            \r\n",
        "    info_init_depth = df_annot[DEPTH_ANNOT].iloc[0]\r\n",
        "    info_final_depth = df_annot[DEPTH_ANNOT].iloc[-1]\r\n",
        "    image_init_depth = df_image[DEPTH_IMAGE].iloc[0]\r\n",
        "    image_final_depth = df_image[DEPTH_IMAGE].iloc[-1]\r\n",
        "    \r\n",
        "    if info_init_depth > image_init_depth:                                                      ### crop files so that they cover approximately the same depth span\r\n",
        "        df_image = df_image.drop(df_image[df_image.TDEP < info_init_depth].index)\r\n",
        "    elif info_init_depth < image_init_depth:\r\n",
        "        df_annot = df_annot.drop(df_annot[df_annot.DEPTH < image_init_depth].index)\r\n",
        "    if info_final_depth > image_final_depth:\r\n",
        "        df_annot = df_annot.drop(df_annot[df_annot.DEPTH > image_final_depth].index)\r\n",
        "    elif info_final_depth < image_final_depth:\r\n",
        "        df_image = df_image.drop(df_image[df_image.TDEP > info_final_depth].index)\r\n",
        "                    \r\n",
        "    df_annot.loc[df_annot[RES_TRACK_NAME] == 1, 'CLASS'] = 1\r\n",
        "    df_annot.loc[df_annot[RES_TRACK_NAME] == 10, 'CLASS'] = 2\r\n",
        "    df_annot.loc[df_annot[RES_TRACK_NAME] == 100, 'CLASS'] = 3\r\n",
        "    \r\n",
        "    prev_wells_images = create_imgfiles(df_image, prev_wells_images, df_annot, well_number)                  ### call function to create individual image and annotation files"
      ],
      "execution_count": 20,
      "outputs": []
    }
  ]
}