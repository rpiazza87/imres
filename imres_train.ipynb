{
  "nbformat": 4,
  "nbformat_minor": 0,
  "metadata": {
    "colab": {
      "name": "imres_train.ipynb",
      "provenance": []
    },
    "kernelspec": {
      "name": "python3",
      "display_name": "Python 3"
    },
    "accelerator": "GPU"
  },
  "cells": [
    {
      "cell_type": "code",
      "metadata": {
        "colab": {
          "base_uri": "https://localhost:8080/"
        },
        "id": "Tbk284nQTr4A",
        "outputId": "546fc1d9-dfe5-4ddf-fb60-80e5345c199d"
      },
      "source": [
        "!pip install tensorflow==1.15.3"
      ],
      "execution_count": 2,
      "outputs": [
        {
          "output_type": "stream",
          "text": [
            "Collecting tensorflow==1.15.3\n",
            "\u001b[?25l  Downloading https://files.pythonhosted.org/packages/02/36/9a02e27f0ec248b676a380ffe910c1858e3af3027c0d4d513dd0b56a5613/tensorflow-1.15.3-cp36-cp36m-manylinux2010_x86_64.whl (110.5MB)\n",
            "\u001b[K     |████████████████████████████████| 110.5MB 95kB/s \n",
            "\u001b[?25hCollecting keras-applications>=1.0.8\n",
            "\u001b[?25l  Downloading https://files.pythonhosted.org/packages/71/e3/19762fdfc62877ae9102edf6342d71b28fbfd9dea3d2f96a882ce099b03f/Keras_Applications-1.0.8-py3-none-any.whl (50kB)\n",
            "\u001b[K     |████████████████████████████████| 51kB 8.4MB/s \n",
            "\u001b[?25hRequirement already satisfied: wrapt>=1.11.1 in /usr/local/lib/python3.6/dist-packages (from tensorflow==1.15.3) (1.12.1)\n",
            "Collecting tensorboard<1.16.0,>=1.15.0\n",
            "\u001b[?25l  Downloading https://files.pythonhosted.org/packages/1e/e9/d3d747a97f7188f48aa5eda486907f3b345cd409f0a0850468ba867db246/tensorboard-1.15.0-py3-none-any.whl (3.8MB)\n",
            "\u001b[K     |████████████████████████████████| 3.8MB 51.6MB/s \n",
            "\u001b[?25hRequirement already satisfied: astor>=0.6.0 in /usr/local/lib/python3.6/dist-packages (from tensorflow==1.15.3) (0.8.1)\n",
            "Requirement already satisfied: opt-einsum>=2.3.2 in /usr/local/lib/python3.6/dist-packages (from tensorflow==1.15.3) (3.3.0)\n",
            "Requirement already satisfied: grpcio>=1.8.6 in /usr/local/lib/python3.6/dist-packages (from tensorflow==1.15.3) (1.32.0)\n",
            "Collecting gast==0.2.2\n",
            "  Downloading https://files.pythonhosted.org/packages/4e/35/11749bf99b2d4e3cceb4d55ca22590b0d7c2c62b9de38ac4a4a7f4687421/gast-0.2.2.tar.gz\n",
            "Requirement already satisfied: google-pasta>=0.1.6 in /usr/local/lib/python3.6/dist-packages (from tensorflow==1.15.3) (0.2.0)\n",
            "Requirement already satisfied: termcolor>=1.1.0 in /usr/local/lib/python3.6/dist-packages (from tensorflow==1.15.3) (1.1.0)\n",
            "Requirement already satisfied: six>=1.10.0 in /usr/local/lib/python3.6/dist-packages (from tensorflow==1.15.3) (1.15.0)\n",
            "Requirement already satisfied: keras-preprocessing>=1.0.5 in /usr/local/lib/python3.6/dist-packages (from tensorflow==1.15.3) (1.1.2)\n",
            "Collecting tensorflow-estimator==1.15.1\n",
            "\u001b[?25l  Downloading https://files.pythonhosted.org/packages/de/62/2ee9cd74c9fa2fa450877847ba560b260f5d0fb70ee0595203082dafcc9d/tensorflow_estimator-1.15.1-py2.py3-none-any.whl (503kB)\n",
            "\u001b[K     |████████████████████████████████| 512kB 52.0MB/s \n",
            "\u001b[?25hRequirement already satisfied: protobuf>=3.6.1 in /usr/local/lib/python3.6/dist-packages (from tensorflow==1.15.3) (3.12.4)\n",
            "Requirement already satisfied: wheel>=0.26; python_version >= \"3\" in /usr/local/lib/python3.6/dist-packages (from tensorflow==1.15.3) (0.36.2)\n",
            "Requirement already satisfied: numpy<2.0,>=1.16.0 in /usr/local/lib/python3.6/dist-packages (from tensorflow==1.15.3) (1.19.4)\n",
            "Requirement already satisfied: absl-py>=0.7.0 in /usr/local/lib/python3.6/dist-packages (from tensorflow==1.15.3) (0.10.0)\n",
            "Requirement already satisfied: h5py in /usr/local/lib/python3.6/dist-packages (from keras-applications>=1.0.8->tensorflow==1.15.3) (2.10.0)\n",
            "Requirement already satisfied: werkzeug>=0.11.15 in /usr/local/lib/python3.6/dist-packages (from tensorboard<1.16.0,>=1.15.0->tensorflow==1.15.3) (1.0.1)\n",
            "Requirement already satisfied: setuptools>=41.0.0 in /usr/local/lib/python3.6/dist-packages (from tensorboard<1.16.0,>=1.15.0->tensorflow==1.15.3) (51.0.0)\n",
            "Requirement already satisfied: markdown>=2.6.8 in /usr/local/lib/python3.6/dist-packages (from tensorboard<1.16.0,>=1.15.0->tensorflow==1.15.3) (3.3.3)\n",
            "Requirement already satisfied: importlib-metadata; python_version < \"3.8\" in /usr/local/lib/python3.6/dist-packages (from markdown>=2.6.8->tensorboard<1.16.0,>=1.15.0->tensorflow==1.15.3) (3.3.0)\n",
            "Requirement already satisfied: typing-extensions>=3.6.4; python_version < \"3.8\" in /usr/local/lib/python3.6/dist-packages (from importlib-metadata; python_version < \"3.8\"->markdown>=2.6.8->tensorboard<1.16.0,>=1.15.0->tensorflow==1.15.3) (3.7.4.3)\n",
            "Requirement already satisfied: zipp>=0.5 in /usr/local/lib/python3.6/dist-packages (from importlib-metadata; python_version < \"3.8\"->markdown>=2.6.8->tensorboard<1.16.0,>=1.15.0->tensorflow==1.15.3) (3.4.0)\n",
            "Building wheels for collected packages: gast\n",
            "  Building wheel for gast (setup.py) ... \u001b[?25l\u001b[?25hdone\n",
            "  Created wheel for gast: filename=gast-0.2.2-cp36-none-any.whl size=7540 sha256=1b5afee447410699c84b4f4924305e5788713bd77969a52932aaaf0b8855a1dc\n",
            "  Stored in directory: /root/.cache/pip/wheels/5c/2e/7e/a1d4d4fcebe6c381f378ce7743a3ced3699feb89bcfbdadadd\n",
            "Successfully built gast\n",
            "\u001b[31mERROR: tensorflow-probability 0.11.0 has requirement gast>=0.3.2, but you'll have gast 0.2.2 which is incompatible.\u001b[0m\n",
            "Installing collected packages: keras-applications, tensorboard, gast, tensorflow-estimator, tensorflow\n",
            "  Found existing installation: tensorboard 2.4.0\n",
            "    Uninstalling tensorboard-2.4.0:\n",
            "      Successfully uninstalled tensorboard-2.4.0\n",
            "  Found existing installation: gast 0.3.3\n",
            "    Uninstalling gast-0.3.3:\n",
            "      Successfully uninstalled gast-0.3.3\n",
            "  Found existing installation: tensorflow-estimator 2.4.0\n",
            "    Uninstalling tensorflow-estimator-2.4.0:\n",
            "      Successfully uninstalled tensorflow-estimator-2.4.0\n",
            "  Found existing installation: tensorflow 2.4.0\n",
            "    Uninstalling tensorflow-2.4.0:\n",
            "      Successfully uninstalled tensorflow-2.4.0\n",
            "Successfully installed gast-0.2.2 keras-applications-1.0.8 tensorboard-1.15.0 tensorflow-1.15.3 tensorflow-estimator-1.15.1\n"
          ],
          "name": "stdout"
        }
      ]
    },
    {
      "cell_type": "code",
      "metadata": {
        "colab": {
          "base_uri": "https://localhost:8080/"
        },
        "id": "focl9CzkVtVz",
        "outputId": "5fc13893-7098-45c3-9a6e-e39b390f0de1"
      },
      "source": [
        "!pip show tensorflow"
      ],
      "execution_count": 3,
      "outputs": [
        {
          "output_type": "stream",
          "text": [
            "Name: tensorflow\n",
            "Version: 1.15.3\n",
            "Summary: TensorFlow is an open source machine learning framework for everyone.\n",
            "Home-page: https://www.tensorflow.org/\n",
            "Author: Google Inc.\n",
            "Author-email: packages@tensorflow.org\n",
            "License: Apache 2.0\n",
            "Location: /usr/local/lib/python3.6/dist-packages\n",
            "Requires: keras-preprocessing, numpy, tensorboard, grpcio, termcolor, google-pasta, wheel, opt-einsum, absl-py, protobuf, gast, astor, wrapt, keras-applications, six, tensorflow-estimator\n",
            "Required-by: fancyimpute\n"
          ],
          "name": "stdout"
        }
      ]
    },
    {
      "cell_type": "code",
      "metadata": {
        "colab": {
          "base_uri": "https://localhost:8080/"
        },
        "id": "Edazw37cVxmb",
        "outputId": "a8bdbbe5-6353-4b2d-fa19-e9c9e9f73110"
      },
      "source": [
        "!pip install tensorflow-gpu==1.15.3"
      ],
      "execution_count": 4,
      "outputs": [
        {
          "output_type": "stream",
          "text": [
            "Collecting tensorflow-gpu==1.15.3\n",
            "\u001b[?25l  Downloading https://files.pythonhosted.org/packages/98/ab/19aba3629427c2d96790f73838639136ce02b6e7e1c4f2dd60149174c794/tensorflow_gpu-1.15.3-cp36-cp36m-manylinux2010_x86_64.whl (411.0MB)\n",
            "\u001b[K     |████████████████████████████████| 411.0MB 41kB/s \n",
            "\u001b[?25hRequirement already satisfied: grpcio>=1.8.6 in /usr/local/lib/python3.6/dist-packages (from tensorflow-gpu==1.15.3) (1.32.0)\n",
            "Requirement already satisfied: protobuf>=3.6.1 in /usr/local/lib/python3.6/dist-packages (from tensorflow-gpu==1.15.3) (3.12.4)\n",
            "Requirement already satisfied: wrapt>=1.11.1 in /usr/local/lib/python3.6/dist-packages (from tensorflow-gpu==1.15.3) (1.12.1)\n",
            "Requirement already satisfied: astor>=0.6.0 in /usr/local/lib/python3.6/dist-packages (from tensorflow-gpu==1.15.3) (0.8.1)\n",
            "Requirement already satisfied: gast==0.2.2 in /usr/local/lib/python3.6/dist-packages (from tensorflow-gpu==1.15.3) (0.2.2)\n",
            "Requirement already satisfied: numpy<2.0,>=1.16.0 in /usr/local/lib/python3.6/dist-packages (from tensorflow-gpu==1.15.3) (1.19.4)\n",
            "Requirement already satisfied: keras-preprocessing>=1.0.5 in /usr/local/lib/python3.6/dist-packages (from tensorflow-gpu==1.15.3) (1.1.2)\n",
            "Requirement already satisfied: absl-py>=0.7.0 in /usr/local/lib/python3.6/dist-packages (from tensorflow-gpu==1.15.3) (0.10.0)\n",
            "Requirement already satisfied: termcolor>=1.1.0 in /usr/local/lib/python3.6/dist-packages (from tensorflow-gpu==1.15.3) (1.1.0)\n",
            "Requirement already satisfied: opt-einsum>=2.3.2 in /usr/local/lib/python3.6/dist-packages (from tensorflow-gpu==1.15.3) (3.3.0)\n",
            "Requirement already satisfied: google-pasta>=0.1.6 in /usr/local/lib/python3.6/dist-packages (from tensorflow-gpu==1.15.3) (0.2.0)\n",
            "Requirement already satisfied: six>=1.10.0 in /usr/local/lib/python3.6/dist-packages (from tensorflow-gpu==1.15.3) (1.15.0)\n",
            "Requirement already satisfied: wheel>=0.26; python_version >= \"3\" in /usr/local/lib/python3.6/dist-packages (from tensorflow-gpu==1.15.3) (0.36.2)\n",
            "Requirement already satisfied: tensorflow-estimator==1.15.1 in /usr/local/lib/python3.6/dist-packages (from tensorflow-gpu==1.15.3) (1.15.1)\n",
            "Requirement already satisfied: tensorboard<1.16.0,>=1.15.0 in /usr/local/lib/python3.6/dist-packages (from tensorflow-gpu==1.15.3) (1.15.0)\n",
            "Requirement already satisfied: keras-applications>=1.0.8 in /usr/local/lib/python3.6/dist-packages (from tensorflow-gpu==1.15.3) (1.0.8)\n",
            "Requirement already satisfied: setuptools in /usr/local/lib/python3.6/dist-packages (from protobuf>=3.6.1->tensorflow-gpu==1.15.3) (51.0.0)\n",
            "Requirement already satisfied: markdown>=2.6.8 in /usr/local/lib/python3.6/dist-packages (from tensorboard<1.16.0,>=1.15.0->tensorflow-gpu==1.15.3) (3.3.3)\n",
            "Requirement already satisfied: werkzeug>=0.11.15 in /usr/local/lib/python3.6/dist-packages (from tensorboard<1.16.0,>=1.15.0->tensorflow-gpu==1.15.3) (1.0.1)\n",
            "Requirement already satisfied: h5py in /usr/local/lib/python3.6/dist-packages (from keras-applications>=1.0.8->tensorflow-gpu==1.15.3) (2.10.0)\n",
            "Requirement already satisfied: importlib-metadata; python_version < \"3.8\" in /usr/local/lib/python3.6/dist-packages (from markdown>=2.6.8->tensorboard<1.16.0,>=1.15.0->tensorflow-gpu==1.15.3) (3.3.0)\n",
            "Requirement already satisfied: typing-extensions>=3.6.4; python_version < \"3.8\" in /usr/local/lib/python3.6/dist-packages (from importlib-metadata; python_version < \"3.8\"->markdown>=2.6.8->tensorboard<1.16.0,>=1.15.0->tensorflow-gpu==1.15.3) (3.7.4.3)\n",
            "Requirement already satisfied: zipp>=0.5 in /usr/local/lib/python3.6/dist-packages (from importlib-metadata; python_version < \"3.8\"->markdown>=2.6.8->tensorboard<1.16.0,>=1.15.0->tensorflow-gpu==1.15.3) (3.4.0)\n",
            "Installing collected packages: tensorflow-gpu\n",
            "Successfully installed tensorflow-gpu-1.15.3\n"
          ],
          "name": "stdout"
        }
      ]
    },
    {
      "cell_type": "code",
      "metadata": {
        "colab": {
          "base_uri": "https://localhost:8080/"
        },
        "id": "D9Jkuex6WRLD",
        "outputId": "22fece9a-e3b4-4ca5-fc0c-b59ab0745fea"
      },
      "source": [
        "!pip show tensorflow-gpu"
      ],
      "execution_count": 5,
      "outputs": [
        {
          "output_type": "stream",
          "text": [
            "Name: tensorflow-gpu\n",
            "Version: 1.15.3\n",
            "Summary: TensorFlow is an open source machine learning framework for everyone.\n",
            "Home-page: https://www.tensorflow.org/\n",
            "Author: Google Inc.\n",
            "Author-email: packages@tensorflow.org\n",
            "License: Apache 2.0\n",
            "Location: /usr/local/lib/python3.6/dist-packages\n",
            "Requires: six, absl-py, numpy, wrapt, gast, protobuf, google-pasta, tensorflow-estimator, astor, keras-preprocessing, tensorboard, termcolor, wheel, keras-applications, opt-einsum, grpcio\n",
            "Required-by: \n"
          ],
          "name": "stdout"
        }
      ]
    },
    {
      "cell_type": "code",
      "metadata": {
        "colab": {
          "base_uri": "https://localhost:8080/"
        },
        "id": "VTeu37lsasvz",
        "outputId": "76100ccf-0488-4e0b-ff02-81b9be147294"
      },
      "source": [
        "!pip install keras==2.2.4"
      ],
      "execution_count": 6,
      "outputs": [
        {
          "output_type": "stream",
          "text": [
            "Collecting keras==2.2.4\n",
            "\u001b[?25l  Downloading https://files.pythonhosted.org/packages/5e/10/aa32dad071ce52b5502266b5c659451cfd6ffcbf14e6c8c4f16c0ff5aaab/Keras-2.2.4-py2.py3-none-any.whl (312kB)\n",
            "\r\u001b[K     |█                               | 10kB 23.0MB/s eta 0:00:01\r\u001b[K     |██                              | 20kB 14.2MB/s eta 0:00:01\r\u001b[K     |███▏                            | 30kB 13.8MB/s eta 0:00:01\r\u001b[K     |████▏                           | 40kB 13.2MB/s eta 0:00:01\r\u001b[K     |█████▎                          | 51kB 11.2MB/s eta 0:00:01\r\u001b[K     |██████▎                         | 61kB 11.0MB/s eta 0:00:01\r\u001b[K     |███████▍                        | 71kB 10.9MB/s eta 0:00:01\r\u001b[K     |████████▍                       | 81kB 11.0MB/s eta 0:00:01\r\u001b[K     |█████████▍                      | 92kB 10.9MB/s eta 0:00:01\r\u001b[K     |██████████▌                     | 102kB 10.9MB/s eta 0:00:01\r\u001b[K     |███████████▌                    | 112kB 10.9MB/s eta 0:00:01\r\u001b[K     |████████████▋                   | 122kB 10.9MB/s eta 0:00:01\r\u001b[K     |█████████████▋                  | 133kB 10.9MB/s eta 0:00:01\r\u001b[K     |██████████████▊                 | 143kB 10.9MB/s eta 0:00:01\r\u001b[K     |███████████████▊                | 153kB 10.9MB/s eta 0:00:01\r\u001b[K     |████████████████▊               | 163kB 10.9MB/s eta 0:00:01\r\u001b[K     |█████████████████▉              | 174kB 10.9MB/s eta 0:00:01\r\u001b[K     |██████████████████▉             | 184kB 10.9MB/s eta 0:00:01\r\u001b[K     |████████████████████            | 194kB 10.9MB/s eta 0:00:01\r\u001b[K     |█████████████████████           | 204kB 10.9MB/s eta 0:00:01\r\u001b[K     |██████████████████████          | 215kB 10.9MB/s eta 0:00:01\r\u001b[K     |███████████████████████         | 225kB 10.9MB/s eta 0:00:01\r\u001b[K     |████████████████████████▏       | 235kB 10.9MB/s eta 0:00:01\r\u001b[K     |█████████████████████████▏      | 245kB 10.9MB/s eta 0:00:01\r\u001b[K     |██████████████████████████▏     | 256kB 10.9MB/s eta 0:00:01\r\u001b[K     |███████████████████████████▎    | 266kB 10.9MB/s eta 0:00:01\r\u001b[K     |████████████████████████████▎   | 276kB 10.9MB/s eta 0:00:01\r\u001b[K     |█████████████████████████████▍  | 286kB 10.9MB/s eta 0:00:01\r\u001b[K     |██████████████████████████████▍ | 296kB 10.9MB/s eta 0:00:01\r\u001b[K     |███████████████████████████████▌| 307kB 10.9MB/s eta 0:00:01\r\u001b[K     |████████████████████████████████| 317kB 10.9MB/s \n",
            "\u001b[?25hRequirement already satisfied: pyyaml in /usr/local/lib/python3.6/dist-packages (from keras==2.2.4) (3.13)\n",
            "Requirement already satisfied: six>=1.9.0 in /usr/local/lib/python3.6/dist-packages (from keras==2.2.4) (1.15.0)\n",
            "Requirement already satisfied: scipy>=0.14 in /usr/local/lib/python3.6/dist-packages (from keras==2.2.4) (1.4.1)\n",
            "Requirement already satisfied: keras-applications>=1.0.6 in /usr/local/lib/python3.6/dist-packages (from keras==2.2.4) (1.0.8)\n",
            "Requirement already satisfied: h5py in /usr/local/lib/python3.6/dist-packages (from keras==2.2.4) (2.10.0)\n",
            "Requirement already satisfied: numpy>=1.9.1 in /usr/local/lib/python3.6/dist-packages (from keras==2.2.4) (1.19.4)\n",
            "Requirement already satisfied: keras-preprocessing>=1.0.5 in /usr/local/lib/python3.6/dist-packages (from keras==2.2.4) (1.1.2)\n",
            "Installing collected packages: keras\n",
            "  Found existing installation: Keras 2.4.3\n",
            "    Uninstalling Keras-2.4.3:\n",
            "      Successfully uninstalled Keras-2.4.3\n",
            "Successfully installed keras-2.2.4\n"
          ],
          "name": "stdout"
        }
      ]
    },
    {
      "cell_type": "code",
      "metadata": {
        "colab": {
          "base_uri": "https://localhost:8080/"
        },
        "id": "p4mjbvl1qhdJ",
        "outputId": "74850397-5855-4612-e69c-21b4ef18a7a6"
      },
      "source": [
        "!pip show keras"
      ],
      "execution_count": 7,
      "outputs": [
        {
          "output_type": "stream",
          "text": [
            "Name: Keras\n",
            "Version: 2.2.4\n",
            "Summary: Deep Learning for humans\n",
            "Home-page: https://github.com/keras-team/keras\n",
            "Author: Francois Chollet\n",
            "Author-email: francois.chollet@gmail.com\n",
            "License: MIT\n",
            "Location: /usr/local/lib/python3.6/dist-packages\n",
            "Requires: keras-preprocessing, numpy, h5py, pyyaml, scipy, keras-applications, six\n",
            "Required-by: textgenrnn, keras-vis, kapre, fancyimpute\n"
          ],
          "name": "stdout"
        }
      ]
    },
    {
      "cell_type": "code",
      "metadata": {
        "colab": {
          "base_uri": "https://localhost:8080/"
        },
        "id": "71nAYD7hVn8n",
        "outputId": "dc61c004-dd5e-46be-b671-8f5a850b50cb"
      },
      "source": [
        "from google.colab import drive\r\n",
        "\r\n",
        "drive.mount('/content/gdrive/')"
      ],
      "execution_count": 8,
      "outputs": [
        {
          "output_type": "stream",
          "text": [
            "Mounted at /content/gdrive/\n"
          ],
          "name": "stdout"
        }
      ]
    },
    {
      "cell_type": "code",
      "metadata": {
        "colab": {
          "base_uri": "https://localhost:8080/"
        },
        "id": "yv7gmUIJX_sW",
        "outputId": "5f4c6378-f881-4734-e742-6057c78c46d4"
      },
      "source": [
        "%cd gdrive/MyDrive"
      ],
      "execution_count": 9,
      "outputs": [
        {
          "output_type": "stream",
          "text": [
            "/content/gdrive/MyDrive\n"
          ],
          "name": "stdout"
        }
      ]
    },
    {
      "cell_type": "code",
      "metadata": {
        "colab": {
          "base_uri": "https://localhost:8080/"
        },
        "id": "8oqhka6sYEfT",
        "outputId": "66c33aa6-a60e-4c5a-eed4-927155b928e4"
      },
      "source": [
        "import sys\r\n",
        "\r\n",
        "sys.path.append('Mask_RCNN')\r\n",
        "from mrcnn.utils import Dataset\r\n",
        "from mrcnn.config import Config\r\n",
        "from mrcnn.model import MaskRCNN\r\n",
        "import mrcnn.model as modellib\r\n",
        "from mrcnn import visualize\r\n",
        "from mrcnn.model import log"
      ],
      "execution_count": 10,
      "outputs": [
        {
          "output_type": "stream",
          "text": [
            "Using TensorFlow backend.\n"
          ],
          "name": "stderr"
        }
      ]
    },
    {
      "cell_type": "code",
      "metadata": {
        "colab": {
          "base_uri": "https://localhost:8080/"
        },
        "id": "LNokLZxVTdsi",
        "outputId": "fb948c5b-2829-40e7-92de-84739e59157e"
      },
      "source": [
        "!pwd"
      ],
      "execution_count": 11,
      "outputs": [
        {
          "output_type": "stream",
          "text": [
            "/content/gdrive/My Drive\n"
          ],
          "name": "stdout"
        }
      ]
    },
    {
      "cell_type": "code",
      "metadata": {
        "colab": {
          "base_uri": "https://localhost:8080/"
        },
        "id": "Fzl9FCLkT33q",
        "outputId": "bff6930d-49d9-477d-ef27-02c6045e5499"
      },
      "source": [
        "%cd petrobras2"
      ],
      "execution_count": 12,
      "outputs": [
        {
          "output_type": "stream",
          "text": [
            "/content/gdrive/My Drive/petrobras2\n"
          ],
          "name": "stdout"
        }
      ]
    },
    {
      "cell_type": "code",
      "metadata": {
        "colab": {
          "base_uri": "https://localhost:8080/"
        },
        "id": "nXi1G22-T6id",
        "outputId": "48003578-abaf-4556-809b-2b7ec264af01"
      },
      "source": [
        "!ls"
      ],
      "execution_count": 13,
      "outputs": [
        {
          "output_type": "stream",
          "text": [
            "data\t\t\timres_data_split.ipynb\timres_train.py\n",
            "imres_cfg20201229T1807\timres_data_split.py\tmask_rcnn_coco.h5\n",
            "imres_cfg20201229T1947\timres_evaluate.ipynb\tmask_rcnn_imres_cfg_0006.h5\n",
            "imres_data_setup.ipynb\timres_evaluate.py\n",
            "imres_data_setup.py\timres_train.ipynb\n"
          ],
          "name": "stdout"
        }
      ]
    },
    {
      "cell_type": "markdown",
      "metadata": {
        "id": "Zj3XUD0kT7xG"
      },
      "source": [
        "#=======================================================================\r\n",
        "# **Projeto de Classificação da Qualidade de Perfis de Imagem LWD** \r\n",
        "\r\n",
        "# Script para treinar modelo Mask RCNN para classificação automática da resolução\r\n",
        "\r\n",
        "# Data: Outubro de 2020\r\n",
        "# Autor: Ralph Piazza \r\n",
        "#======================================================================="
      ]
    },
    {
      "cell_type": "code",
      "metadata": {
        "id": "w6itk0YQUVxz"
      },
      "source": [
        "# import libraries\r\n",
        "\r\n",
        "from pathlib import Path\r\n",
        "from os import listdir\r\n",
        "\r\n",
        "from numpy import zeros\r\n",
        "from numpy import asarray\r\n",
        "from numpy import argmin\r\n",
        "import pandas as pd\r\n",
        "import random\r\n",
        "\r\n",
        "from time import perf_counter\r\n",
        "import warnings \r\n",
        "\r\n",
        "import cv2\r\n",
        "import matplotlib.pyplot \r\n",
        "from matplotlib import pyplot\r\n",
        "\r\n",
        "import itertools\r\n",
        "from tqdm import tqdm"
      ],
      "execution_count": 14,
      "outputs": []
    },
    {
      "cell_type": "code",
      "metadata": {
        "id": "gnt4QKRaUZUL"
      },
      "source": [
        "# global variables\r\n",
        "\r\n",
        "SPLIT_DIR = 'data/'\r\n",
        "ANNOT_DIR = 'data/annots/'\r\n",
        "IMAGE_DIR = 'data/images/'\r\n",
        " \r\n",
        "COCO_WEIGHTS_PATH = 'mask_rcnn_coco.h5'\r\n",
        "\r\n",
        "DATA_NAME = 'imres_dataset'\r\n",
        "\r\n",
        "NUM_CATS = 3\r\n",
        "IMAGE_SIZE = 512\r\n",
        "IMAGE_WIDTH = 120\r\n",
        "\r\n",
        "# Label information\r\n",
        "label_names = [\"high_res\", \"mid_res\", \"low_res\"]"
      ],
      "execution_count": 15,
      "outputs": []
    },
    {
      "cell_type": "code",
      "metadata": {
        "colab": {
          "base_uri": "https://localhost:8080/"
        },
        "id": "JfhC48D0Ubrl",
        "outputId": "4a3ec0f2-750c-41f0-a5e4-87e762ea8518"
      },
      "source": [
        "# model configuration\r\n",
        "\r\n",
        "class ImresConfig(Config):\r\n",
        "    # define the name of the configuration\r\n",
        "    NAME = \"imres_cfg\"\r\n",
        "    # number of classes (background + resolution rating)\r\n",
        "    NUM_CLASSES = 1 + 3\r\n",
        "    # number of training steps per epoch\r\n",
        "    STEPS_PER_EPOCH = 34 #201 402\r\n",
        "    VALIDATION_STEPS = 12 # 402\r\n",
        "    \r\n",
        "    LEARNING_RATE = 1e-4\r\n",
        "    \r\n",
        "    GPU_COUNT = 1\r\n",
        "    IMAGES_PER_GPU = 6\r\n",
        "    \r\n",
        "    BACKBONE = 'resnet50'\r\n",
        "    IMAGE_RESIZE_MODE = 'square'\r\n",
        "    IMAGE_MIN_DIM = IMAGE_WIDTH\r\n",
        "    IMAGE_MAX_DIM = IMAGE_SIZE    \r\n",
        "    #IMAGE_CHANNEL_COUNT = 1\r\n",
        "    \r\n",
        "    IMAGE_SHAPE = [512, 512, 1]\r\n",
        "\r\n",
        "# Prepare and check model configuration\r\n",
        "config = ImresConfig()\r\n",
        "config.display()"
      ],
      "execution_count": 38,
      "outputs": [
        {
          "output_type": "stream",
          "text": [
            "\n",
            "Configurations:\n",
            "BACKBONE                       resnet50\n",
            "BACKBONE_STRIDES               [4, 8, 16, 32, 64]\n",
            "BATCH_SIZE                     6\n",
            "BBOX_STD_DEV                   [0.1 0.1 0.2 0.2]\n",
            "COMPUTE_BACKBONE_SHAPE         None\n",
            "DETECTION_MAX_INSTANCES        100\n",
            "DETECTION_MIN_CONFIDENCE       0.7\n",
            "DETECTION_NMS_THRESHOLD        0.3\n",
            "FPN_CLASSIF_FC_LAYERS_SIZE     1024\n",
            "GPU_COUNT                      1\n",
            "GRADIENT_CLIP_NORM             5.0\n",
            "IMAGES_PER_GPU                 6\n",
            "IMAGE_CHANNEL_COUNT            3\n",
            "IMAGE_MAX_DIM                  512\n",
            "IMAGE_META_SIZE                16\n",
            "IMAGE_MIN_DIM                  120\n",
            "IMAGE_MIN_SCALE                0\n",
            "IMAGE_RESIZE_MODE              square\n",
            "IMAGE_SHAPE                    [512 512   3]\n",
            "LEARNING_MOMENTUM              0.9\n",
            "LEARNING_RATE                  0.0001\n",
            "LOSS_WEIGHTS                   {'rpn_class_loss': 1.0, 'rpn_bbox_loss': 1.0, 'mrcnn_class_loss': 1.0, 'mrcnn_bbox_loss': 1.0, 'mrcnn_mask_loss': 1.0}\n",
            "MASK_POOL_SIZE                 14\n",
            "MASK_SHAPE                     [28, 28]\n",
            "MAX_GT_INSTANCES               100\n",
            "MEAN_PIXEL                     [123.7 116.8 103.9]\n",
            "MINI_MASK_SHAPE                (56, 56)\n",
            "NAME                           imres_cfg\n",
            "NUM_CLASSES                    4\n",
            "POOL_SIZE                      7\n",
            "POST_NMS_ROIS_INFERENCE        1000\n",
            "POST_NMS_ROIS_TRAINING         2000\n",
            "PRE_NMS_LIMIT                  6000\n",
            "ROI_POSITIVE_RATIO             0.33\n",
            "RPN_ANCHOR_RATIOS              [0.5, 1, 2]\n",
            "RPN_ANCHOR_SCALES              (32, 64, 128, 256, 512)\n",
            "RPN_ANCHOR_STRIDE              1\n",
            "RPN_BBOX_STD_DEV               [0.1 0.1 0.2 0.2]\n",
            "RPN_NMS_THRESHOLD              0.7\n",
            "RPN_TRAIN_ANCHORS_PER_IMAGE    256\n",
            "STEPS_PER_EPOCH                34\n",
            "TOP_DOWN_PYRAMID_SIZE          256\n",
            "TRAIN_BN                       False\n",
            "TRAIN_ROIS_PER_IMAGE           200\n",
            "USE_MINI_MASK                  True\n",
            "USE_RPN_ROIS                   True\n",
            "VALIDATION_STEPS               12\n",
            "WEIGHT_DECAY                   0.0001\n",
            "\n",
            "\n"
          ],
          "name": "stdout"
        }
      ]
    },
    {
      "cell_type": "code",
      "metadata": {
        "id": "d9MWiJEIUeNB"
      },
      "source": [
        "# resizing image\r\n",
        "\r\n",
        "def resize_image(image_path):\r\n",
        "    img = cv2.imread(image_path)\r\n",
        "    img = cv2.resize(img, (IMAGE_SIZE, IMAGE_SIZE), interpolation=cv2.INTER_AREA)\r\n",
        "    return img\r\n"
      ],
      "execution_count": 18,
      "outputs": []
    },
    {
      "cell_type": "code",
      "metadata": {
        "id": "moOYrTUGUglz"
      },
      "source": [
        "# model preparation \r\n",
        "\r\n",
        "class ImresDataset(Dataset):\r\n",
        "    \r\n",
        "    # load the dataset file information into a directory\r\n",
        "    def load_dataset(self, is_train=True):\r\n",
        "        for i, name in enumerate(label_names):\r\n",
        "            self.add_class(DATA_NAME, i + 1, name)        \r\n",
        "        if(is_train):\r\n",
        "            image_list = pd.read_csv(SPLIT_DIR + 'train_list.txt', header=None, index_col=False, sep='/s+', squeeze=True)           \r\n",
        "        else:\r\n",
        "            image_list = pd.read_csv(SPLIT_DIR + 'test_list.txt', header=None, index_col=False, sep='/s+', squeeze=True)\r\n",
        "        \r\n",
        "        for filename in listdir(IMAGE_DIR):\r\n",
        "            image_id = filename[:-4]\r\n",
        "            if(int(image_id) in image_list.values):            \r\n",
        "                img_path = IMAGE_DIR + filename\r\n",
        "                ann_path = ANNOT_DIR + image_id + '.csv'\r\n",
        "                self.add_image(DATA_NAME, image_id=image_id, path=img_path, annotation=ann_path, width=IMAGE_WIDTH, height=IMAGE_SIZE)\r\n",
        "        return\r\n",
        "                \r\n",
        "    # extract bounding boxes from an annotation file\r\n",
        "    def extract_boxes(self, filename):\r\n",
        "        annot_info = pd.read_csv(filename)\r\n",
        "        boxes = list()\r\n",
        "        for box in range(len(annot_info.index)):\r\n",
        "            xmin = int(annot_info.at[box, 'XMIN'])\r\n",
        "            ymin = int(annot_info.at[box, 'YMIN'])\r\n",
        "            xmax = int(annot_info.at[box, 'XMAX'])            \r\n",
        "            ymax = int(annot_info.at[box, 'YMAX'])\r\n",
        "            res_class = int(annot_info.at[box, 'CLASS'])\r\n",
        "            info = [xmin, ymin, xmax, ymax, res_class]\r\n",
        "            boxes.append(info)\r\n",
        "        width = int(IMAGE_WIDTH)\r\n",
        "        height = int(annot_info.at[box, 'HEIGHT'])      \r\n",
        "        return boxes, width, height\r\n",
        "    \r\n",
        "    # load the masks for an image\r\n",
        "    def load_mask(self, image_id):\r\n",
        "        info = self.image_info[image_id]\r\n",
        "        path = info['annotation']\r\n",
        "        boxes, w, h = self.extract_boxes(path)\r\n",
        "        masks = zeros([h, w, len(boxes)], dtype='uint8')\r\n",
        "        class_ids = list()\r\n",
        "        for i in range(len(boxes)):\r\n",
        "            box = boxes[i]\r\n",
        "            row_s, row_e = box[1], box[3]\r\n",
        "            col_s, col_e = box[0], box[2]\r\n",
        "            masks[row_s:row_e, col_s:col_e, i] = 1\r\n",
        "            class_ids.append(box[4])\r\n",
        "        return masks, asarray(class_ids, dtype='int32')\r\n",
        "    \r\n",
        "    # load the image location reference \r\n",
        "    def image_reference(self, image_id):\r\n",
        "        info = self.image_info[image_id]\r\n",
        "        return info['path']\r\n",
        "    \r\n",
        "    # load an image from the directory into the model\r\n",
        "    def load_image(self, image_id):\r\n",
        "        info = self.image_info[image_id]\r\n",
        "        return resize_image(info['path'])"
      ],
      "execution_count": 19,
      "outputs": []
    },
    {
      "cell_type": "code",
      "metadata": {
        "colab": {
          "base_uri": "https://localhost:8080/"
        },
        "id": "tMsq6DRfUks2",
        "outputId": "104a5cc7-5f49-4a25-e3ed-bcae1f526fc5"
      },
      "source": [
        "# load data\r\n",
        "\r\n",
        "warnings.filterwarnings(\"ignore\")\r\n",
        "\r\n",
        "# prepare train set\r\n",
        "t0 = perf_counter()\r\n",
        "train_set = ImresDataset()\r\n",
        "train_set.load_dataset(is_train=True)\r\n",
        "train_set.prepare()\r\n",
        "print('Train: %d' % len(train_set.image_ids))\r\n",
        "\r\n",
        "# prepare test/val set\r\n",
        "test_set = ImresDataset()\r\n",
        "test_set.load_dataset(is_train=False)\r\n",
        "test_set.prepare()\r\n",
        "print('Test: %d' % len(test_set.image_ids))\r\n",
        "\r\n",
        "t1 = (perf_counter() - t0)/60.0\r\n",
        "print ('It took', t1, 'minutes to prepare datasets')"
      ],
      "execution_count": 29,
      "outputs": [
        {
          "output_type": "stream",
          "text": [
            "Train: 1284\n",
            "Test: 321\n",
            "It took 0.0010978308833349123 minutes to prepare datasets\n"
          ],
          "name": "stdout"
        }
      ]
    },
    {
      "cell_type": "code",
      "metadata": {
        "colab": {
          "base_uri": "https://localhost:8080/",
          "height": 269
        },
        "id": "QI6vW-xvUoax",
        "outputId": "77ba3c80-5465-499e-c344-ba135ff15866"
      },
      "source": [
        "# image visualization\r\n",
        "\r\n",
        "if(False):\r\n",
        "    for i in range(6):\r\n",
        "        image_id = random.choice(train_set.image_ids)\r\n",
        "        print(train_set.image_reference(image_id))\r\n",
        "    \r\n",
        "        image = train_set.load_image(image_id)\r\n",
        "        mask, class_ids = train_set.load_mask(image_id)\r\n",
        "        visualize.display_top_masks(image, mask, class_ids, train_set.class_names, limit=4)    \r\n",
        "\r\n",
        "if(True):\r\n",
        "    for i in range(9):\r\n",
        "        pyplot.subplot(330 + 1 + i)\r\n",
        "        image = train_set.load_image(i + 1)\r\n",
        "        pyplot.imshow(image)\r\n",
        "        mask, _ = train_set.load_mask(i + 1)\r\n",
        "        for j in range(mask.shape[2]):\r\n",
        "            pyplot.imshow(mask[:, :, j], cmap='gray', alpha=0.3)\r\n",
        "    pyplot.show()"
      ],
      "execution_count": 26,
      "outputs": [
        {
          "output_type": "display_data",
          "data": {
            "image/png": "[encoded data removed]",
            "text/plain": [
              "<Figure size 432x288 with 9 Axes>"
            ]
          },
          "metadata": {
            "tags": [],
            "needs_background": "light"
          }
        }
      ]
    },
    {
      "cell_type": "code",
      "metadata": {
        "colab": {
          "base_uri": "https://localhost:8080/"
        },
        "id": "YV3s8yjPUrTB",
        "outputId": "db180c23-8aa0-408c-bc3d-753a82ef90d9"
      },
      "source": [
        "# train model\r\n",
        "\r\n",
        "warnings.filterwarnings(\"ignore\")\r\n",
        "\r\n",
        "# define the model\r\n",
        "model = MaskRCNN(mode='training', model_dir='./', config=config)\r\n",
        "# load weights (mscoco) and exclude the output layers\r\n",
        "model.load_weights(COCO_WEIGHTS_PATH, by_name=True, exclude=[\"mrcnn_class_logits\", \"mrcnn_bbox_fc\",  \"mrcnn_bbox\", \"mrcnn_mask\"])\r\n",
        "\r\n",
        "# train weights (output layers or 'heads')\r\n",
        "t0 = perf_counter()\r\n",
        "model.train(train_set, test_set, learning_rate=2*config.LEARNING_RATE, epochs=4, layers='heads') #2\r\n",
        "t1 = (perf_counter() - t0)/60.0\r\n",
        "print ('It took', t1, 'minutes to train last layer')\r\n",
        "history = model.keras_model.history.history\r\n",
        "\r\n",
        "# train weights (all layers)\r\n",
        "t0 = perf_counter()\r\n",
        "model.train(train_set, test_set, learning_rate=config.LEARNING_RATE, epochs=14, layers='all') #6\r\n",
        "t1 = (perf_counter() - t0)/60.0\r\n",
        "print ('It took', t1, 'minutes to train all layers')\r\n",
        "new_history = model.keras_model.history.history\r\n",
        "for k in new_history: history[k] = history[k] + new_history[k]\r\n",
        "\r\n",
        "# train weights (retrain all layers)\r\n",
        "t0 = perf_counter()\r\n",
        "model.train(train_set, test_set, learning_rate=config.LEARNING_RATE/5, epochs=20, layers='all') #8\r\n",
        "t1 = (perf_counter() - t0)/60.0\r\n",
        "print ('It took', t1, 'minutes to retrain all layers')\r\n",
        "new_history = model.keras_model.history.history\r\n",
        "for k in new_history: history[k] = history[k] + new_history[k]"
      ],
      "execution_count": 39,
      "outputs": [
        {
          "output_type": "stream",
          "text": [
            "\n",
            "Starting at epoch 0. LR=0.0002\n",
            "\n",
            "Checkpoint Path: ./imres_cfg20201230T0015/mask_rcnn_imres_cfg_{epoch:04d}.h5\n",
            "Selecting layers to train\n",
            "fpn_c5p5               (Conv2D)\n",
            "fpn_c4p4               (Conv2D)\n",
            "fpn_c3p3               (Conv2D)\n",
            "fpn_c2p2               (Conv2D)\n",
            "fpn_p5                 (Conv2D)\n",
            "fpn_p2                 (Conv2D)\n",
            "fpn_p3                 (Conv2D)\n",
            "fpn_p4                 (Conv2D)\n",
            "In model:  rpn_model\n",
            "    rpn_conv_shared        (Conv2D)\n",
            "    rpn_class_raw          (Conv2D)\n",
            "    rpn_bbox_pred          (Conv2D)\n",
            "mrcnn_mask_conv1       (TimeDistributed)\n",
            "mrcnn_mask_bn1         (TimeDistributed)\n",
            "mrcnn_mask_conv2       (TimeDistributed)\n",
            "mrcnn_mask_bn2         (TimeDistributed)\n",
            "mrcnn_class_conv1      (TimeDistributed)\n",
            "mrcnn_class_bn1        (TimeDistributed)\n",
            "mrcnn_mask_conv3       (TimeDistributed)\n",
            "mrcnn_mask_bn3         (TimeDistributed)\n",
            "mrcnn_class_conv2      (TimeDistributed)\n",
            "mrcnn_class_bn2        (TimeDistributed)\n",
            "mrcnn_mask_conv4       (TimeDistributed)\n",
            "mrcnn_mask_bn4         (TimeDistributed)\n",
            "mrcnn_bbox_fc          (TimeDistributed)\n",
            "mrcnn_mask_deconv      (TimeDistributed)\n",
            "mrcnn_class_logits     (TimeDistributed)\n",
            "mrcnn_mask             (TimeDistributed)\n",
            "Epoch 1/4\n",
            "34/34 [==============================] - 125s 4s/step - loss: 3.4719 - rpn_class_loss: 0.2092 - rpn_bbox_loss: 1.4973 - mrcnn_class_loss: 0.2554 - mrcnn_bbox_loss: 0.8092 - mrcnn_mask_loss: 0.7008 - val_loss: 2.2426 - val_rpn_class_loss: 0.1141 - val_rpn_bbox_loss: 0.8424 - val_mrcnn_class_loss: 0.1028 - val_mrcnn_bbox_loss: 0.6248 - val_mrcnn_mask_loss: 0.5585\n",
            "Epoch 2/4\n",
            "34/34 [==============================] - 49s 1s/step - loss: 2.0908 - rpn_class_loss: 0.1241 - rpn_bbox_loss: 0.7498 - mrcnn_class_loss: 0.0992 - mrcnn_bbox_loss: 0.6232 - mrcnn_mask_loss: 0.4944 - val_loss: 2.1561 - val_rpn_class_loss: 0.1359 - val_rpn_bbox_loss: 0.7193 - val_mrcnn_class_loss: 0.1206 - val_mrcnn_bbox_loss: 0.6756 - val_mrcnn_mask_loss: 0.5047\n",
            "Epoch 3/4\n",
            "34/34 [==============================] - 52s 2s/step - loss: 2.0879 - rpn_class_loss: 0.1445 - rpn_bbox_loss: 0.8470 - mrcnn_class_loss: 0.0867 - mrcnn_bbox_loss: 0.5614 - mrcnn_mask_loss: 0.4484 - val_loss: 1.8661 - val_rpn_class_loss: 0.1361 - val_rpn_bbox_loss: 0.6506 - val_mrcnn_class_loss: 0.1014 - val_mrcnn_bbox_loss: 0.5290 - val_mrcnn_mask_loss: 0.4490\n",
            "Epoch 4/4\n",
            "34/34 [==============================] - 52s 2s/step - loss: 1.7098 - rpn_class_loss: 0.1043 - rpn_bbox_loss: 0.5833 - mrcnn_class_loss: 0.1008 - mrcnn_bbox_loss: 0.4896 - mrcnn_mask_loss: 0.4318 - val_loss: 1.8018 - val_rpn_class_loss: 0.0946 - val_rpn_bbox_loss: 0.6006 - val_mrcnn_class_loss: 0.1217 - val_mrcnn_bbox_loss: 0.5364 - val_mrcnn_mask_loss: 0.4486\n",
            "It took 8.462479204933334 minutes to train last layer\n",
            "\n",
            "Starting at epoch 4. LR=0.0001\n",
            "\n",
            "Checkpoint Path: ./imres_cfg20201230T0015/mask_rcnn_imres_cfg_{epoch:04d}.h5\n",
            "Selecting layers to train\n",
            "conv1                  (Conv2D)\n",
            "bn_conv1               (BatchNorm)\n",
            "res2a_branch2a         (Conv2D)\n",
            "bn2a_branch2a          (BatchNorm)\n",
            "res2a_branch2b         (Conv2D)\n",
            "bn2a_branch2b          (BatchNorm)\n",
            "res2a_branch2c         (Conv2D)\n",
            "res2a_branch1          (Conv2D)\n",
            "bn2a_branch2c          (BatchNorm)\n",
            "bn2a_branch1           (BatchNorm)\n",
            "res2b_branch2a         (Conv2D)\n",
            "bn2b_branch2a          (BatchNorm)\n",
            "res2b_branch2b         (Conv2D)\n",
            "bn2b_branch2b          (BatchNorm)\n",
            "res2b_branch2c         (Conv2D)\n",
            "bn2b_branch2c          (BatchNorm)\n",
            "res2c_branch2a         (Conv2D)\n",
            "bn2c_branch2a          (BatchNorm)\n",
            "res2c_branch2b         (Conv2D)\n",
            "bn2c_branch2b          (BatchNorm)\n",
            "res2c_branch2c         (Conv2D)\n",
            "bn2c_branch2c          (BatchNorm)\n",
            "res3a_branch2a         (Conv2D)\n",
            "bn3a_branch2a          (BatchNorm)\n",
            "res3a_branch2b         (Conv2D)\n",
            "bn3a_branch2b          (BatchNorm)\n",
            "res3a_branch2c         (Conv2D)\n",
            "res3a_branch1          (Conv2D)\n",
            "bn3a_branch2c          (BatchNorm)\n",
            "bn3a_branch1           (BatchNorm)\n",
            "res3b_branch2a         (Conv2D)\n",
            "bn3b_branch2a          (BatchNorm)\n",
            "res3b_branch2b         (Conv2D)\n",
            "bn3b_branch2b          (BatchNorm)\n",
            "res3b_branch2c         (Conv2D)\n",
            "bn3b_branch2c          (BatchNorm)\n",
            "res3c_branch2a         (Conv2D)\n",
            "bn3c_branch2a          (BatchNorm)\n",
            "res3c_branch2b         (Conv2D)\n",
            "bn3c_branch2b          (BatchNorm)\n",
            "res3c_branch2c         (Conv2D)\n",
            "bn3c_branch2c          (BatchNorm)\n",
            "res3d_branch2a         (Conv2D)\n",
            "bn3d_branch2a          (BatchNorm)\n",
            "res3d_branch2b         (Conv2D)\n",
            "bn3d_branch2b          (BatchNorm)\n",
            "res3d_branch2c         (Conv2D)\n",
            "bn3d_branch2c          (BatchNorm)\n",
            "res4a_branch2a         (Conv2D)\n",
            "bn4a_branch2a          (BatchNorm)\n",
            "res4a_branch2b         (Conv2D)\n",
            "bn4a_branch2b          (BatchNorm)\n",
            "res4a_branch2c         (Conv2D)\n",
            "res4a_branch1          (Conv2D)\n",
            "bn4a_branch2c          (BatchNorm)\n",
            "bn4a_branch1           (BatchNorm)\n",
            "res4b_branch2a         (Conv2D)\n",
            "bn4b_branch2a          (BatchNorm)\n",
            "res4b_branch2b         (Conv2D)\n",
            "bn4b_branch2b          (BatchNorm)\n",
            "res4b_branch2c         (Conv2D)\n",
            "bn4b_branch2c          (BatchNorm)\n",
            "res4c_branch2a         (Conv2D)\n",
            "bn4c_branch2a          (BatchNorm)\n",
            "res4c_branch2b         (Conv2D)\n",
            "bn4c_branch2b          (BatchNorm)\n",
            "res4c_branch2c         (Conv2D)\n",
            "bn4c_branch2c          (BatchNorm)\n",
            "res4d_branch2a         (Conv2D)\n",
            "bn4d_branch2a          (BatchNorm)\n",
            "res4d_branch2b         (Conv2D)\n",
            "bn4d_branch2b          (BatchNorm)\n",
            "res4d_branch2c         (Conv2D)\n",
            "bn4d_branch2c          (BatchNorm)\n",
            "res4e_branch2a         (Conv2D)\n",
            "bn4e_branch2a          (BatchNorm)\n",
            "res4e_branch2b         (Conv2D)\n",
            "bn4e_branch2b          (BatchNorm)\n",
            "res4e_branch2c         (Conv2D)\n",
            "bn4e_branch2c          (BatchNorm)\n",
            "res4f_branch2a         (Conv2D)\n",
            "bn4f_branch2a          (BatchNorm)\n",
            "res4f_branch2b         (Conv2D)\n",
            "bn4f_branch2b          (BatchNorm)\n",
            "res4f_branch2c         (Conv2D)\n",
            "bn4f_branch2c          (BatchNorm)\n",
            "res5a_branch2a         (Conv2D)\n",
            "bn5a_branch2a          (BatchNorm)\n",
            "res5a_branch2b         (Conv2D)\n",
            "bn5a_branch2b          (BatchNorm)\n",
            "res5a_branch2c         (Conv2D)\n",
            "res5a_branch1          (Conv2D)\n",
            "bn5a_branch2c          (BatchNorm)\n",
            "bn5a_branch1           (BatchNorm)\n",
            "res5b_branch2a         (Conv2D)\n",
            "bn5b_branch2a          (BatchNorm)\n",
            "res5b_branch2b         (Conv2D)\n",
            "bn5b_branch2b          (BatchNorm)\n",
            "res5b_branch2c         (Conv2D)\n",
            "bn5b_branch2c          (BatchNorm)\n",
            "res5c_branch2a         (Conv2D)\n",
            "bn5c_branch2a          (BatchNorm)\n",
            "res5c_branch2b         (Conv2D)\n",
            "bn5c_branch2b          (BatchNorm)\n",
            "res5c_branch2c         (Conv2D)\n",
            "bn5c_branch2c          (BatchNorm)\n",
            "fpn_c5p5               (Conv2D)\n",
            "fpn_c4p4               (Conv2D)\n",
            "fpn_c3p3               (Conv2D)\n",
            "fpn_c2p2               (Conv2D)\n",
            "fpn_p5                 (Conv2D)\n",
            "fpn_p2                 (Conv2D)\n",
            "fpn_p3                 (Conv2D)\n",
            "fpn_p4                 (Conv2D)\n",
            "In model:  rpn_model\n",
            "    rpn_conv_shared        (Conv2D)\n",
            "    rpn_class_raw          (Conv2D)\n",
            "    rpn_bbox_pred          (Conv2D)\n",
            "mrcnn_mask_conv1       (TimeDistributed)\n",
            "mrcnn_mask_bn1         (TimeDistributed)\n",
            "mrcnn_mask_conv2       (TimeDistributed)\n",
            "mrcnn_mask_bn2         (TimeDistributed)\n",
            "mrcnn_class_conv1      (TimeDistributed)\n",
            "mrcnn_class_bn1        (TimeDistributed)\n",
            "mrcnn_mask_conv3       (TimeDistributed)\n",
            "mrcnn_mask_bn3         (TimeDistributed)\n",
            "mrcnn_class_conv2      (TimeDistributed)\n",
            "mrcnn_class_bn2        (TimeDistributed)\n",
            "mrcnn_mask_conv4       (TimeDistributed)\n",
            "mrcnn_mask_bn4         (TimeDistributed)\n",
            "mrcnn_bbox_fc          (TimeDistributed)\n",
            "mrcnn_mask_deconv      (TimeDistributed)\n",
            "mrcnn_class_logits     (TimeDistributed)\n",
            "mrcnn_mask             (TimeDistributed)\n",
            "Epoch 5/14\n",
            "34/34 [==============================] - 147s 4s/step - loss: 1.8405 - rpn_class_loss: 0.1122 - rpn_bbox_loss: 0.6601 - mrcnn_class_loss: 0.1360 - mrcnn_bbox_loss: 0.5039 - mrcnn_mask_loss: 0.4283 - val_loss: 1.4779 - val_rpn_class_loss: 0.0662 - val_rpn_bbox_loss: 0.4196 - val_mrcnn_class_loss: 0.1174 - val_mrcnn_bbox_loss: 0.4603 - val_mrcnn_mask_loss: 0.4143\n",
            "Epoch 6/14\n",
            "34/34 [==============================] - 76s 2s/step - loss: 1.5224 - rpn_class_loss: 0.0897 - rpn_bbox_loss: 0.5072 - mrcnn_class_loss: 0.1095 - mrcnn_bbox_loss: 0.4208 - mrcnn_mask_loss: 0.3952 - val_loss: 1.7813 - val_rpn_class_loss: 0.1162 - val_rpn_bbox_loss: 0.5823 - val_mrcnn_class_loss: 0.1179 - val_mrcnn_bbox_loss: 0.5147 - val_mrcnn_mask_loss: 0.4502\n",
            "Epoch 7/14\n",
            "34/34 [==============================] - 76s 2s/step - loss: 1.7746 - rpn_class_loss: 0.1248 - rpn_bbox_loss: 0.7280 - mrcnn_class_loss: 0.0967 - mrcnn_bbox_loss: 0.4190 - mrcnn_mask_loss: 0.4061 - val_loss: 1.6028 - val_rpn_class_loss: 0.1251 - val_rpn_bbox_loss: 0.5677 - val_mrcnn_class_loss: 0.0923 - val_mrcnn_bbox_loss: 0.4086 - val_mrcnn_mask_loss: 0.4090\n",
            "Epoch 8/14\n",
            "34/34 [==============================] - 77s 2s/step - loss: 1.4968 - rpn_class_loss: 0.0896 - rpn_bbox_loss: 0.5466 - mrcnn_class_loss: 0.0928 - mrcnn_bbox_loss: 0.3823 - mrcnn_mask_loss: 0.3856 - val_loss: 1.5507 - val_rpn_class_loss: 0.0862 - val_rpn_bbox_loss: 0.5650 - val_mrcnn_class_loss: 0.0909 - val_mrcnn_bbox_loss: 0.4046 - val_mrcnn_mask_loss: 0.4040\n",
            "Epoch 9/14\n",
            "34/34 [==============================] - 75s 2s/step - loss: 1.3445 - rpn_class_loss: 0.0825 - rpn_bbox_loss: 0.4625 - mrcnn_class_loss: 0.0762 - mrcnn_bbox_loss: 0.3493 - mrcnn_mask_loss: 0.3740 - val_loss: 1.9966 - val_rpn_class_loss: 0.1617 - val_rpn_bbox_loss: 0.8075 - val_mrcnn_class_loss: 0.1026 - val_mrcnn_bbox_loss: 0.4929 - val_mrcnn_mask_loss: 0.4319\n",
            "Epoch 10/14\n",
            "34/34 [==============================] - 78s 2s/step - loss: 1.4121 - rpn_class_loss: 0.0751 - rpn_bbox_loss: 0.4921 - mrcnn_class_loss: 0.0846 - mrcnn_bbox_loss: 0.3708 - mrcnn_mask_loss: 0.3895 - val_loss: 1.3740 - val_rpn_class_loss: 0.0818 - val_rpn_bbox_loss: 0.3987 - val_mrcnn_class_loss: 0.1017 - val_mrcnn_bbox_loss: 0.4140 - val_mrcnn_mask_loss: 0.3778\n",
            "Epoch 11/14\n",
            "34/34 [==============================] - 77s 2s/step - loss: 1.3881 - rpn_class_loss: 0.0779 - rpn_bbox_loss: 0.4649 - mrcnn_class_loss: 0.0906 - mrcnn_bbox_loss: 0.3729 - mrcnn_mask_loss: 0.3819 - val_loss: 1.7750 - val_rpn_class_loss: 0.1025 - val_rpn_bbox_loss: 0.8287 - val_mrcnn_class_loss: 0.0862 - val_mrcnn_bbox_loss: 0.3947 - val_mrcnn_mask_loss: 0.3627\n",
            "Epoch 12/14\n",
            "34/34 [==============================] - 75s 2s/step - loss: 1.4032 - rpn_class_loss: 0.0996 - rpn_bbox_loss: 0.4757 - mrcnn_class_loss: 0.0918 - mrcnn_bbox_loss: 0.3547 - mrcnn_mask_loss: 0.3815 - val_loss: 1.3340 - val_rpn_class_loss: 0.0816 - val_rpn_bbox_loss: 0.4609 - val_mrcnn_class_loss: 0.0854 - val_mrcnn_bbox_loss: 0.3382 - val_mrcnn_mask_loss: 0.3678\n",
            "Epoch 13/14\n",
            "34/34 [==============================] - 75s 2s/step - loss: 1.2384 - rpn_class_loss: 0.0607 - rpn_bbox_loss: 0.4274 - mrcnn_class_loss: 0.0782 - mrcnn_bbox_loss: 0.3057 - mrcnn_mask_loss: 0.3664 - val_loss: 1.3003 - val_rpn_class_loss: 0.0554 - val_rpn_bbox_loss: 0.4124 - val_mrcnn_class_loss: 0.1061 - val_mrcnn_bbox_loss: 0.3643 - val_mrcnn_mask_loss: 0.3620\n",
            "Epoch 14/14\n",
            "34/34 [==============================] - 77s 2s/step - loss: 1.3975 - rpn_class_loss: 0.0882 - rpn_bbox_loss: 0.5801 - mrcnn_class_loss: 0.0762 - mrcnn_bbox_loss: 0.2974 - mrcnn_mask_loss: 0.3554 - val_loss: 1.3921 - val_rpn_class_loss: 0.0776 - val_rpn_bbox_loss: 0.4732 - val_mrcnn_class_loss: 0.0891 - val_mrcnn_bbox_loss: 0.3634 - val_mrcnn_mask_loss: 0.3887\n",
            "It took 14.612614618399993 minutes to train all layers\n",
            "\n",
            "Starting at epoch 14. LR=2e-05\n",
            "\n",
            "Checkpoint Path: ./imres_cfg20201230T0015/mask_rcnn_imres_cfg_{epoch:04d}.h5\n",
            "Selecting layers to train\n",
            "conv1                  (Conv2D)\n",
            "bn_conv1               (BatchNorm)\n",
            "res2a_branch2a         (Conv2D)\n",
            "bn2a_branch2a          (BatchNorm)\n",
            "res2a_branch2b         (Conv2D)\n",
            "bn2a_branch2b          (BatchNorm)\n",
            "res2a_branch2c         (Conv2D)\n",
            "res2a_branch1          (Conv2D)\n",
            "bn2a_branch2c          (BatchNorm)\n",
            "bn2a_branch1           (BatchNorm)\n",
            "res2b_branch2a         (Conv2D)\n",
            "bn2b_branch2a          (BatchNorm)\n",
            "res2b_branch2b         (Conv2D)\n",
            "bn2b_branch2b          (BatchNorm)\n",
            "res2b_branch2c         (Conv2D)\n",
            "bn2b_branch2c          (BatchNorm)\n",
            "res2c_branch2a         (Conv2D)\n",
            "bn2c_branch2a          (BatchNorm)\n",
            "res2c_branch2b         (Conv2D)\n",
            "bn2c_branch2b          (BatchNorm)\n",
            "res2c_branch2c         (Conv2D)\n",
            "bn2c_branch2c          (BatchNorm)\n",
            "res3a_branch2a         (Conv2D)\n",
            "bn3a_branch2a          (BatchNorm)\n",
            "res3a_branch2b         (Conv2D)\n",
            "bn3a_branch2b          (BatchNorm)\n",
            "res3a_branch2c         (Conv2D)\n",
            "res3a_branch1          (Conv2D)\n",
            "bn3a_branch2c          (BatchNorm)\n",
            "bn3a_branch1           (BatchNorm)\n",
            "res3b_branch2a         (Conv2D)\n",
            "bn3b_branch2a          (BatchNorm)\n",
            "res3b_branch2b         (Conv2D)\n",
            "bn3b_branch2b          (BatchNorm)\n",
            "res3b_branch2c         (Conv2D)\n",
            "bn3b_branch2c          (BatchNorm)\n",
            "res3c_branch2a         (Conv2D)\n",
            "bn3c_branch2a          (BatchNorm)\n",
            "res3c_branch2b         (Conv2D)\n",
            "bn3c_branch2b          (BatchNorm)\n",
            "res3c_branch2c         (Conv2D)\n",
            "bn3c_branch2c          (BatchNorm)\n",
            "res3d_branch2a         (Conv2D)\n",
            "bn3d_branch2a          (BatchNorm)\n",
            "res3d_branch2b         (Conv2D)\n",
            "bn3d_branch2b          (BatchNorm)\n",
            "res3d_branch2c         (Conv2D)\n",
            "bn3d_branch2c          (BatchNorm)\n",
            "res4a_branch2a         (Conv2D)\n",
            "bn4a_branch2a          (BatchNorm)\n",
            "res4a_branch2b         (Conv2D)\n",
            "bn4a_branch2b          (BatchNorm)\n",
            "res4a_branch2c         (Conv2D)\n",
            "res4a_branch1          (Conv2D)\n",
            "bn4a_branch2c          (BatchNorm)\n",
            "bn4a_branch1           (BatchNorm)\n",
            "res4b_branch2a         (Conv2D)\n",
            "bn4b_branch2a          (BatchNorm)\n",
            "res4b_branch2b         (Conv2D)\n",
            "bn4b_branch2b          (BatchNorm)\n",
            "res4b_branch2c         (Conv2D)\n",
            "bn4b_branch2c          (BatchNorm)\n",
            "res4c_branch2a         (Conv2D)\n",
            "bn4c_branch2a          (BatchNorm)\n",
            "res4c_branch2b         (Conv2D)\n",
            "bn4c_branch2b          (BatchNorm)\n",
            "res4c_branch2c         (Conv2D)\n",
            "bn4c_branch2c          (BatchNorm)\n",
            "res4d_branch2a         (Conv2D)\n",
            "bn4d_branch2a          (BatchNorm)\n",
            "res4d_branch2b         (Conv2D)\n",
            "bn4d_branch2b          (BatchNorm)\n",
            "res4d_branch2c         (Conv2D)\n",
            "bn4d_branch2c          (BatchNorm)\n",
            "res4e_branch2a         (Conv2D)\n",
            "bn4e_branch2a          (BatchNorm)\n",
            "res4e_branch2b         (Conv2D)\n",
            "bn4e_branch2b          (BatchNorm)\n",
            "res4e_branch2c         (Conv2D)\n",
            "bn4e_branch2c          (BatchNorm)\n",
            "res4f_branch2a         (Conv2D)\n",
            "bn4f_branch2a          (BatchNorm)\n",
            "res4f_branch2b         (Conv2D)\n",
            "bn4f_branch2b          (BatchNorm)\n",
            "res4f_branch2c         (Conv2D)\n",
            "bn4f_branch2c          (BatchNorm)\n",
            "res5a_branch2a         (Conv2D)\n",
            "bn5a_branch2a          (BatchNorm)\n",
            "res5a_branch2b         (Conv2D)\n",
            "bn5a_branch2b          (BatchNorm)\n",
            "res5a_branch2c         (Conv2D)\n",
            "res5a_branch1          (Conv2D)\n",
            "bn5a_branch2c          (BatchNorm)\n",
            "bn5a_branch1           (BatchNorm)\n",
            "res5b_branch2a         (Conv2D)\n",
            "bn5b_branch2a          (BatchNorm)\n",
            "res5b_branch2b         (Conv2D)\n",
            "bn5b_branch2b          (BatchNorm)\n",
            "res5b_branch2c         (Conv2D)\n",
            "bn5b_branch2c          (BatchNorm)\n",
            "res5c_branch2a         (Conv2D)\n",
            "bn5c_branch2a          (BatchNorm)\n",
            "res5c_branch2b         (Conv2D)\n",
            "bn5c_branch2b          (BatchNorm)\n",
            "res5c_branch2c         (Conv2D)\n",
            "bn5c_branch2c          (BatchNorm)\n",
            "fpn_c5p5               (Conv2D)\n",
            "fpn_c4p4               (Conv2D)\n",
            "fpn_c3p3               (Conv2D)\n",
            "fpn_c2p2               (Conv2D)\n",
            "fpn_p5                 (Conv2D)\n",
            "fpn_p2                 (Conv2D)\n",
            "fpn_p3                 (Conv2D)\n",
            "fpn_p4                 (Conv2D)\n",
            "In model:  rpn_model\n",
            "    rpn_conv_shared        (Conv2D)\n",
            "    rpn_class_raw          (Conv2D)\n",
            "    rpn_bbox_pred          (Conv2D)\n",
            "mrcnn_mask_conv1       (TimeDistributed)\n",
            "mrcnn_mask_bn1         (TimeDistributed)\n",
            "mrcnn_mask_conv2       (TimeDistributed)\n",
            "mrcnn_mask_bn2         (TimeDistributed)\n",
            "mrcnn_class_conv1      (TimeDistributed)\n",
            "mrcnn_class_bn1        (TimeDistributed)\n",
            "mrcnn_mask_conv3       (TimeDistributed)\n",
            "mrcnn_mask_bn3         (TimeDistributed)\n",
            "mrcnn_class_conv2      (TimeDistributed)\n",
            "mrcnn_class_bn2        (TimeDistributed)\n",
            "mrcnn_mask_conv4       (TimeDistributed)\n",
            "mrcnn_mask_bn4         (TimeDistributed)\n",
            "mrcnn_bbox_fc          (TimeDistributed)\n",
            "mrcnn_mask_deconv      (TimeDistributed)\n",
            "mrcnn_class_logits     (TimeDistributed)\n",
            "mrcnn_mask             (TimeDistributed)\n",
            "Epoch 15/20\n",
            "34/34 [==============================] - 147s 4s/step - loss: 1.5443 - rpn_class_loss: 0.0870 - rpn_bbox_loss: 0.6239 - mrcnn_class_loss: 0.1007 - mrcnn_bbox_loss: 0.3664 - mrcnn_mask_loss: 0.3663 - val_loss: 1.2079 - val_rpn_class_loss: 0.0570 - val_rpn_bbox_loss: 0.4076 - val_mrcnn_class_loss: 0.0877 - val_mrcnn_bbox_loss: 0.3102 - val_mrcnn_mask_loss: 0.3455\n",
            "Epoch 16/20\n",
            "34/34 [==============================] - 77s 2s/step - loss: 1.1898 - rpn_class_loss: 0.0709 - rpn_bbox_loss: 0.4395 - mrcnn_class_loss: 0.0863 - mrcnn_bbox_loss: 0.2732 - mrcnn_mask_loss: 0.3198 - val_loss: 1.5638 - val_rpn_class_loss: 0.1027 - val_rpn_bbox_loss: 0.5329 - val_mrcnn_class_loss: 0.1009 - val_mrcnn_bbox_loss: 0.4223 - val_mrcnn_mask_loss: 0.4051\n",
            "Epoch 17/20\n",
            "34/34 [==============================] - 76s 2s/step - loss: 1.5720 - rpn_class_loss: 0.0999 - rpn_bbox_loss: 0.6823 - mrcnn_class_loss: 0.0961 - mrcnn_bbox_loss: 0.3326 - mrcnn_mask_loss: 0.3611 - val_loss: 1.4368 - val_rpn_class_loss: 0.1096 - val_rpn_bbox_loss: 0.5636 - val_mrcnn_class_loss: 0.0903 - val_mrcnn_bbox_loss: 0.3170 - val_mrcnn_mask_loss: 0.3562\n",
            "Epoch 18/20\n",
            "34/34 [==============================] - 77s 2s/step - loss: 1.2742 - rpn_class_loss: 0.0722 - rpn_bbox_loss: 0.5099 - mrcnn_class_loss: 0.0812 - mrcnn_bbox_loss: 0.2788 - mrcnn_mask_loss: 0.3321 - val_loss: 1.3876 - val_rpn_class_loss: 0.0745 - val_rpn_bbox_loss: 0.5408 - val_mrcnn_class_loss: 0.0779 - val_mrcnn_bbox_loss: 0.3365 - val_mrcnn_mask_loss: 0.3580\n",
            "Epoch 19/20\n",
            "34/34 [==============================] - 77s 2s/step - loss: 1.1683 - rpn_class_loss: 0.0673 - rpn_bbox_loss: 0.3872 - mrcnn_class_loss: 0.0829 - mrcnn_bbox_loss: 0.2869 - mrcnn_mask_loss: 0.3440 - val_loss: 1.7507 - val_rpn_class_loss: 0.1299 - val_rpn_bbox_loss: 0.6921 - val_mrcnn_class_loss: 0.1092 - val_mrcnn_bbox_loss: 0.4135 - val_mrcnn_mask_loss: 0.4060\n",
            "Epoch 20/20\n",
            "34/34 [==============================] - 75s 2s/step - loss: 1.2693 - rpn_class_loss: 0.0619 - rpn_bbox_loss: 0.4569 - mrcnn_class_loss: 0.0835 - mrcnn_bbox_loss: 0.3078 - mrcnn_mask_loss: 0.3592 - val_loss: 1.2158 - val_rpn_class_loss: 0.0704 - val_rpn_bbox_loss: 0.3830 - val_mrcnn_class_loss: 0.0932 - val_mrcnn_bbox_loss: 0.3185 - val_mrcnn_mask_loss: 0.3506\n",
            "It took 9.589095973716667 minutes to retrain all layers\n"
          ],
          "name": "stdout"
        }
      ]
    },
    {
      "cell_type": "code",
      "metadata": {
        "colab": {
          "base_uri": "https://localhost:8080/",
          "height": 410
        },
        "id": "RFEiQW5SUtxq",
        "outputId": "eba25e73-ca4a-49bb-9e1e-751341d8d496"
      },
      "source": [
        "# visualize training history\r\n",
        "\r\n",
        "epochs = range(20)\r\n",
        "\r\n",
        "pyplot.figure(figsize=(18, 6))\r\n",
        "\r\n",
        "pyplot.subplot(131)\r\n",
        "pyplot.plot(epochs, history['loss'], label=\"train loss\")\r\n",
        "pyplot.plot(epochs, history['val_loss'], label=\"valid loss\")\r\n",
        "pyplot.legend()\r\n",
        "pyplot.subplot(132)\r\n",
        "pyplot.plot(epochs, history['mrcnn_class_loss'], label=\"train class loss\")\r\n",
        "pyplot.plot(epochs, history['val_mrcnn_class_loss'], label=\"valid class loss\")\r\n",
        "pyplot.legend()\r\n",
        "pyplot.subplot(133)\r\n",
        "pyplot.plot(epochs, history['mrcnn_mask_loss'], label=\"train mask loss\")\r\n",
        "pyplot.plot(epochs, history['val_mrcnn_mask_loss'], label=\"valid mask loss\")\r\n",
        "pyplot.legend()\r\n",
        "\r\n",
        "pyplot.show()\r\n",
        "\r\n",
        "# select best epoch\r\n",
        "best_epoch = argmin(history[\"val_loss\"]) + 1\r\n",
        "print(\"Best epoch: \", best_epoch)\r\n",
        "print(\"Valid loss: \", history[\"val_loss\"][best_epoch-1])"
      ],
      "execution_count": 40,
      "outputs": [
        {
          "output_type": "display_data",
          "data": {
            "image/png": "[encoded data removed]",
            "text/plain": [
              "<Figure size 1296x432 with 3 Axes>"
            ]
          },
          "metadata": {
            "tags": [],
            "needs_background": "light"
          }
        },
        {
          "output_type": "stream",
          "text": [
            "Best epoch:  15\n",
            "Valid loss:  1.2079066435496013\n"
          ],
          "name": "stdout"
        }
      ]
    }
  ]
}